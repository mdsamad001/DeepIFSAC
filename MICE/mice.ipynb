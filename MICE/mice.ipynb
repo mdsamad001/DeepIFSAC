{
 "cells": [
  {
   "cell_type": "code",
   "execution_count": 1,
   "metadata": {},
   "outputs": [],
   "source": [
    "import numpy as np\n",
    "import pandas as pd\n",
    "import micegradient as mg\n",
    "# the library is based on https://github.com/AnotherSamWilson/miceforest v2. \n",
    "# They already released v5 which is vastly different so things will differ quite a lot. But still you can check their documentation to get some ideas\n",
    "# to use the library you need to install micegradient. use below command - \n",
    "# pip install -e micegradient"
   ]
  },
  {
   "cell_type": "code",
   "execution_count": 1,
   "metadata": {},
   "outputs": [
    {
     "name": "stdout",
     "output_type": "stream",
     "text": [
      "Defaulting to user installation because normal site-packages is not writeable\n",
      "/usr/lib/python3/dist-packages/pip/_vendor/pkg_resources/__init__.py:1908: UserWarning: /home/cida-lab-2/sbr/contrastive/MICE/micegradient/._micegradient.egg-info could not be properly decoded in UTF-8\n",
      "  warnings.warn(msg)\n",
      "/usr/lib/python3/dist-packages/pip/_vendor/pkg_resources/__init__.py:1908: UserWarning: /home/cida-lab-2/sbr/contrastive/MICE/micegradient/._micegradient.egg-info could not be properly decoded in UTF-8\n",
      "  warnings.warn(msg)\n",
      "\u001b[33mWARNING: Ignoring invalid distribution -micegradient (/home/cida-lab-2/sbr/contrastive/MICE/micegradient)\u001b[0m\u001b[33m\n",
      "\u001b[0m\u001b[33mWARNING: Ignoring invalid distribution -micegradient (/home/cida-lab-2/sbr/contrastive/MICE/micegradient)\u001b[0m\u001b[33m\n",
      "\u001b[0mObtaining file:///home/cida-lab-2/sbr/contrastive/MICE/micegradient\n",
      "  Preparing metadata (setup.py) ... \u001b[?25ldone\n",
      "\u001b[?25hRequirement already satisfied: matplotlib>=3.3.0 in /home/cida-lab-2/.local/lib/python3.10/site-packages (from micegradient==2.0.4) (3.6.0)\n",
      "Requirement already satisfied: numpy in /home/cida-lab-2/.local/lib/python3.10/site-packages (from micegradient==2.0.4) (1.23.3)\n",
      "Requirement already satisfied: pandas in /home/cida-lab-2/.local/lib/python3.10/site-packages (from micegradient==2.0.4) (1.5.0)\n",
      "Requirement already satisfied: scikit-learn in /home/cida-lab-2/.local/lib/python3.10/site-packages (from micegradient==2.0.4) (1.1.2)\n",
      "Requirement already satisfied: seaborn>=0.11.0 in /home/cida-lab-2/.local/lib/python3.10/site-packages (from micegradient==2.0.4) (0.12.0)\n",
      "Requirement already satisfied: kiwisolver>=1.0.1 in /home/cida-lab-2/.local/lib/python3.10/site-packages (from matplotlib>=3.3.0->micegradient==2.0.4) (1.4.4)\n",
      "Requirement already satisfied: cycler>=0.10 in /home/cida-lab-2/.local/lib/python3.10/site-packages (from matplotlib>=3.3.0->micegradient==2.0.4) (0.11.0)\n",
      "Requirement already satisfied: packaging>=20.0 in /home/cida-lab-2/.local/lib/python3.10/site-packages (from matplotlib>=3.3.0->micegradient==2.0.4) (21.3)\n",
      "Requirement already satisfied: fonttools>=4.22.0 in /home/cida-lab-2/.local/lib/python3.10/site-packages (from matplotlib>=3.3.0->micegradient==2.0.4) (4.37.3)\n",
      "Requirement already satisfied: pyparsing>=2.2.1 in /usr/lib/python3/dist-packages (from matplotlib>=3.3.0->micegradient==2.0.4) (2.4.7)\n",
      "Requirement already satisfied: contourpy>=1.0.1 in /home/cida-lab-2/.local/lib/python3.10/site-packages (from matplotlib>=3.3.0->micegradient==2.0.4) (1.0.5)\n",
      "Requirement already satisfied: pillow>=6.2.0 in /usr/lib/python3/dist-packages (from matplotlib>=3.3.0->micegradient==2.0.4) (9.0.1)\n",
      "Requirement already satisfied: python-dateutil>=2.7 in /home/cida-lab-2/.local/lib/python3.10/site-packages (from matplotlib>=3.3.0->micegradient==2.0.4) (2.8.2)\n",
      "Requirement already satisfied: pytz>=2020.1 in /usr/lib/python3/dist-packages (from pandas->micegradient==2.0.4) (2022.1)\n",
      "Requirement already satisfied: joblib>=1.0.0 in /home/cida-lab-2/.local/lib/python3.10/site-packages (from scikit-learn->micegradient==2.0.4) (1.2.0)\n",
      "Requirement already satisfied: threadpoolctl>=2.0.0 in /home/cida-lab-2/.local/lib/python3.10/site-packages (from scikit-learn->micegradient==2.0.4) (3.1.0)\n",
      "Requirement already satisfied: scipy>=1.3.2 in /home/cida-lab-2/.local/lib/python3.10/site-packages (from scikit-learn->micegradient==2.0.4) (1.9.1)\n",
      "Requirement already satisfied: six>=1.5 in /usr/lib/python3/dist-packages (from python-dateutil>=2.7->matplotlib>=3.3.0->micegradient==2.0.4) (1.16.0)\n",
      "\u001b[33mWARNING: Ignoring invalid distribution -micegradient (/home/cida-lab-2/sbr/contrastive/MICE/micegradient)\u001b[0m\u001b[33m\n",
      "\u001b[0mInstalling collected packages: micegradient\n",
      "  Attempting uninstall: micegradient\n",
      "    Found existing installation: micegradient 2.0.4\n",
      "    Uninstalling micegradient-2.0.4:\n",
      "      Successfully uninstalled micegradient-2.0.4\n",
      "  Running setup.py develop for micegradient\n",
      "/usr/lib/python3/dist-packages/pip/_internal/metadata/pkg_resources.py:249: UserWarning: Unbuilt egg for .-micegradient [unknown version] (/home/cida-lab-2/sbr/contrastive/MICE/micegradient)\n",
      "  self._ws.require(name)\n",
      "Successfully installed micegradient\n"
     ]
    }
   ],
   "source": [
    "!pip install -e micegradient"
   ]
  },
  {
   "attachments": {},
   "cell_type": "markdown",
   "metadata": {},
   "source": [
    "## Setup Variables"
   ]
  },
  {
   "cell_type": "code",
   "execution_count": 2,
   "metadata": {},
   "outputs": [],
   "source": [
    "# gradient boosting is the most reliable, deep regressor take a lot of time\n",
    "available_estimators = ['LinearRegression', 'GradientBoosting', 'DecisionTree', 'RandomForest', 'DeeRegressor']\n",
    "\n",
    "# initially impute the value using median or random value (selected from the value range) \n",
    "initialization_options = ['median', 'random']\n",
    "\n",
    "# when 0 is mean meatching off, 1 is on (please search predictive mean matching to understand how it works)\n",
    "# it doesn't improve imputation greatly so default is 0 (off)\n",
    "mean_match = [0,1]\n",
    "\n",
    "# number of mice iterations ranges between 1 - 100 (higher numbers can increase runtime drastically)  \n",
    "mice_iterations = 15"
   ]
  },
  {
   "cell_type": "code",
   "execution_count": null,
   "metadata": {},
   "outputs": [],
   "source": [
    "# training_data_missing should be a pandas dataframe\n",
    "training_data_missing = pd.DataFrame()\n",
    "initialization = 'median'\n",
    "estimator_name = 'GradientBoosting'\n",
    "\n",
    "# we can create multiple versions of the imputed datasets by increasing no_of_generated_datasets\n",
    "# if you generate multiple versions you have take the mean from multiple generated version \n",
    "no_of_generated_datasets = 2"
   ]
  },
  {
   "attachments": {},
   "cell_type": "markdown",
   "metadata": {},
   "source": [
    "# Usage example"
   ]
  },
  {
   "cell_type": "code",
   "execution_count": null,
   "metadata": {},
   "outputs": [],
   "source": [
    "\n",
    "kernel = mg.MultipleImputedKernel(\n",
    "    training_data_missing,\n",
    "    datasets=no_of_generated_datasets,\n",
    "    save_all_iterations=False,\n",
    "    mean_match_candidates=0,\n",
    "    initialization=initialization\n",
    ")\n",
    "\n",
    "kernel.mice(estimator_name, mice_iterations, n_estimators=10)\n",
    "\n",
    "# as you are generating multiple datasets you can access them this way\n",
    "imputed_dataset_1 = kernel.complete_data(0)\n",
    "imputed_dataset_1 = kernel.complete_data(1)\n",
    "\n",
    "# if you set no_of_generated_datasets = 1 access imputed_dataset this way\n",
    "imputed_dataset = kernel.complete_data()"
   ]
  }
 ],
 "metadata": {
  "interpreter": {
   "hash": "d0ab53687702f15e2269a7a5f443d7849668cd720fb17abf024c8947e466d1d9"
  },
  "kernelspec": {
   "display_name": "conda-contrastive",
   "language": "python",
   "name": "conda-contrastive"
  },
  "language_info": {
   "codemirror_mode": {
    "name": "ipython",
    "version": 3
   },
   "file_extension": ".py",
   "mimetype": "text/x-python",
   "name": "python",
   "nbconvert_exporter": "python",
   "pygments_lexer": "ipython3",
   "version": "3.7.16"
  },
  "metadata": {
   "interpreter": {
    "hash": "9bf8817141f8e55d4045173966e3c985398a6c03ab0a504d049f97c823e114ec"
   }
  }
 },
 "nbformat": 4,
 "nbformat_minor": 4
}
